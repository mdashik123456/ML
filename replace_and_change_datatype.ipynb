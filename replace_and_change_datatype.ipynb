{
 "cells": [
  {
   "cell_type": "markdown",
   "id": "5249f0fa",
   "metadata": {},
   "source": [
    "# replace_and_change_datatype"
   ]
  },
  {
   "cell_type": "code",
   "execution_count": 1,
   "id": "a53dc6ae",
   "metadata": {},
   "outputs": [],
   "source": [
    "import pandas as pd "
   ]
  },
  {
   "cell_type": "code",
   "execution_count": 2,
   "id": "44fc0005",
   "metadata": {},
   "outputs": [],
   "source": [
    "df = pd.read_csv('data_sets/loan_data_set.csv')"
   ]
  },
  {
   "cell_type": "code",
   "execution_count": 3,
   "id": "a7d951fe",
   "metadata": {},
   "outputs": [
    {
     "name": "stdout",
     "output_type": "stream",
     "text": [
      "<class 'pandas.core.frame.DataFrame'>\n",
      "RangeIndex: 616 entries, 0 to 615\n",
      "Data columns (total 13 columns):\n",
      " #   Column             Non-Null Count  Dtype  \n",
      "---  ------             --------------  -----  \n",
      " 0   Loan_ID            616 non-null    object \n",
      " 1   Gender             603 non-null    object \n",
      " 2   Married            613 non-null    object \n",
      " 3   Dependents         601 non-null    object \n",
      " 4   Education          616 non-null    object \n",
      " 5   Self_Employed      584 non-null    object \n",
      " 6   ApplicantIncome    616 non-null    int64  \n",
      " 7   CoapplicantIncome  616 non-null    float64\n",
      " 8   LoanAmount         594 non-null    float64\n",
      " 9   Loan_Amount_Term   602 non-null    float64\n",
      " 10  Credit_History     566 non-null    float64\n",
      " 11  Property_Area      616 non-null    object \n",
      " 12  Loan_Status        616 non-null    object \n",
      "dtypes: float64(4), int64(1), object(8)\n",
      "memory usage: 62.7+ KB\n"
     ]
    }
   ],
   "source": [
    "df.info()"
   ]
  },
  {
   "cell_type": "code",
   "execution_count": 4,
   "id": "5f30a7d5",
   "metadata": {},
   "outputs": [
    {
     "data": {
      "text/plain": [
       "array(['0', '1', '2', '3+', nan], dtype=object)"
      ]
     },
     "execution_count": 4,
     "metadata": {},
     "output_type": "execute_result"
    }
   ],
   "source": [
    "df[\"Dependents\"].unique()"
   ]
  },
  {
   "cell_type": "code",
   "execution_count": null,
   "id": "81f09471",
   "metadata": {},
   "outputs": [
    {
     "data": {
      "text/plain": [
       "array(['0', '1', '2', '3+'], dtype=object)"
      ]
     },
     "execution_count": 5,
     "metadata": {},
     "output_type": "execute_result"
    }
   ],
   "source": [
    "df[\"Dependents\"] = df[\"Dependents\"].fillna(df[\"Dependents\"].mode()[0]) # remove NaN values\n",
    "df[\"Dependents\"].unique()"
   ]
  },
  {
   "cell_type": "code",
   "execution_count": null,
   "id": "33a7c693",
   "metadata": {},
   "outputs": [
    {
     "data": {
      "text/plain": [
       "array([0, 1, 2, 3])"
      ]
     },
     "execution_count": 6,
     "metadata": {},
     "output_type": "execute_result"
    }
   ],
   "source": [
    "df[\"Dependents\"] = df[\"Dependents\"].replace({\"3+\": 3}).astype(int) \n",
    "df[\"Dependents\"].unique()"
   ]
  },
  {
   "cell_type": "code",
   "execution_count": 7,
   "id": "470c2416",
   "metadata": {},
   "outputs": [
    {
     "name": "stdout",
     "output_type": "stream",
     "text": [
      "<class 'pandas.core.frame.DataFrame'>\n",
      "RangeIndex: 616 entries, 0 to 615\n",
      "Data columns (total 13 columns):\n",
      " #   Column             Non-Null Count  Dtype  \n",
      "---  ------             --------------  -----  \n",
      " 0   Loan_ID            616 non-null    object \n",
      " 1   Gender             603 non-null    object \n",
      " 2   Married            613 non-null    object \n",
      " 3   Dependents         616 non-null    int64  \n",
      " 4   Education          616 non-null    object \n",
      " 5   Self_Employed      584 non-null    object \n",
      " 6   ApplicantIncome    616 non-null    int64  \n",
      " 7   CoapplicantIncome  616 non-null    float64\n",
      " 8   LoanAmount         594 non-null    float64\n",
      " 9   Loan_Amount_Term   602 non-null    float64\n",
      " 10  Credit_History     566 non-null    float64\n",
      " 11  Property_Area      616 non-null    object \n",
      " 12  Loan_Status        616 non-null    object \n",
      "dtypes: float64(4), int64(2), object(7)\n",
      "memory usage: 62.7+ KB\n"
     ]
    }
   ],
   "source": [
    "df.info()"
   ]
  },
  {
   "cell_type": "code",
   "execution_count": null,
   "id": "1e8ab16c",
   "metadata": {},
   "outputs": [],
   "source": []
  }
 ],
 "metadata": {
  "kernelspec": {
   "display_name": "Python 3",
   "language": "python",
   "name": "python3"
  },
  "language_info": {
   "codemirror_mode": {
    "name": "ipython",
    "version": 3
   },
   "file_extension": ".py",
   "mimetype": "text/x-python",
   "name": "python",
   "nbconvert_exporter": "python",
   "pygments_lexer": "ipython3",
   "version": "3.9.21"
  }
 },
 "nbformat": 4,
 "nbformat_minor": 5
}
